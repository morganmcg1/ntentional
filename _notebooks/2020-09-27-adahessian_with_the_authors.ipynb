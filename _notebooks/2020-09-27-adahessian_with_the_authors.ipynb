{
 "cells": [
  {
   "cell_type": "markdown",
   "metadata": {},
   "source": [
    "# \"YouTube Talk: AdaHessian Optimizer, With The Authors\"\n",
    "\n",
    "> I recently hosted a paper presentation of the AdaHessian optimizer from its authors\n",
    "\n",
    "- badges: false\n",
    "- categories: [papers, research, optimization, optimizer, youtube, nlp, vision]\n",
    "- image: images/adahessian.png"
   ]
  },
  {
   "cell_type": "markdown",
   "metadata": {},
   "source": [
    "I recently hosted a presentation with the authors of the [AdaHessian optimizer paper](https://arxiv.org/pdf/2006.00719.pdf), Zhewei Yao and  Amir Gholami and, to the fastai community.\n",
    "\n",
    "AdaHessian is a promising new optimizer and one of the first second-order optimizers that is becoming practical to use. I've been working on a port of it to fastai which I hope to release shortly, I;ll post up here once I have it released. Until then, I hope you enjoy the presentation and Q&A afterwards!\n",
    "\n",
    "([**Click here**](https://www.youtube.com/watch?v=S87ancnZ0MM) of the embedded link below doesn't work)\n",
    "\n",
    "> youtube: https://www.youtube.com/watch?v=S87ancnZ0MM\n",
    "\n",
    "## Useful links\n",
    "\n",
    "- [Paper link](https://arxiv.org/pdf/2006.00719.pdf)\n",
    "- [AdaHessian Paper repo](https://github.com/amirgholami/adahessian)\n",
    "- [My Fastai Implementation](https://github.com/morganmcg1/AdahessianFastai), basic working version, mixed precision coming\n",
    "- [Fastai discussion](https://forums.fast.ai/t/adahessian/76214/15)\n",
    "- [@lessw2020, Best-Deep-Learning-Optimizers Code](https://github.com/lessw2020/Best-Deep-Learning-Optimizers/tree/master/adahessian)\n",
    "- [@davda54 pytorch implementation](https://github.com/davda54/ada-hessian)\n"
   ]
  },
  {
   "cell_type": "markdown",
   "metadata": {},
   "source": [
    "## Paper Citation"
   ]
  },
  {
   "cell_type": "code",
   "execution_count": null,
   "metadata": {},
   "outputs": [],
   "source": [
    "@article{yao2020adahessian,\n",
    "  title={ADAHESSIAN: An Adaptive Second Order Optimizer for Machine Learning},\n",
    "  author={Yao, Zhewei and Gholami, Amir and Shen, Sheng and Keutzer, Kurt and Mahoney, Michael W},\n",
    "  journal={arXiv preprint arXiv:2006.00719},\n",
    "  year={2020}\n",
    "}"
   ]
  },
  {
   "cell_type": "markdown",
   "metadata": {},
   "source": [
    "## Thanks for Reading 😃\n",
    "As always, I would love to hear if you have any comments, thoughts or criticisms, you can find me on Twitter at [@mcgenergy](www.twitter.com/mcgenergy)"
   ]
  }
 ],
 "metadata": {
  "kernelspec": {
   "display_name": "Python 3",
   "language": "python",
   "name": "python3"
  },
  "language_info": {
   "codemirror_mode": {
    "name": "ipython",
    "version": 3
   },
   "file_extension": ".py",
   "mimetype": "text/x-python",
   "name": "python",
   "nbconvert_exporter": "python",
   "pygments_lexer": "ipython3",
   "version": "3.7.5"
  }
 },
 "nbformat": 4,
 "nbformat_minor": 4
}
